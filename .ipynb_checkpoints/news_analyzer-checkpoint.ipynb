{
 "cells": [
  {
   "cell_type": "code",
   "execution_count": 1,
   "metadata": {
    "collapsed": true
   },
   "outputs": [],
   "source": [
    "import matplotlib.pyplot as plt\n",
    "import pandas as pd\n",
    "import tweepy\n",
    "from vaderSentiment.vaderSentiment import SentimentIntensityAnalyzer\n",
    "analyzer = SentimentIntensityAnalyzer()"
   ]
  },
  {
   "cell_type": "code",
   "execution_count": 2,
   "metadata": {},
   "outputs": [
    {
     "name": "stdout",
     "output_type": "stream",
     "text": [
      "Please enter twitter consumer keyVhhAO44qKA0ula20ODh82aZUb\n",
      "Please enter twitter secret consumer keyXq2dooBwNihOk6FpRFWlgdvryruZ67ZkwcK1AaBWvjtXHgjIJa\n",
      "Please enter twitter token ID809386436-2c68LXwwIt91aa8Skk4spu0dsx9rlZhnS9dC0iLc\n",
      "Please enter twitter secret tokenDtc0XCnRxQyKaDJ7n6t8ZOFToOM1dDa9wWZHdgh8aoUIA\n"
     ]
    }
   ],
   "source": [
    "#API Key Entry\n",
    "consumer_key = input(\"Please enter twitter consumer key\")\n",
    "consumer_secret = input(\"Please enter twitter secret consumer key\")\n",
    "access_token = input(\"Please enter twitter token ID\")\n",
    "access_token_secret = input(\"Please enter twitter secret token\")\n",
    "auth = tweepy.OAuthHandler(consumer_key, consumer_secret)\n",
    "auth.set_access_token(access_token, access_token_secret)\n",
    "api = tweepy.API(auth, parser=tweepy.parsers.JSONParser())\n",
    "\n",
    "accounts = [\"@BBC\", \"@CBS\", \"@CNN\", \"@FoxNews\", \"@nytimes\"]\n"
   ]
  },
  {
   "cell_type": "code",
   "execution_count": 6,
   "metadata": {
    "collapsed": true
   },
   "outputs": [],
   "source": [
    "def tweet_frame(query):\n",
    "    sentiments = []\n",
    "    oldest_id = ''\n",
    "    public_tweets = api.search(query, count=100,\n",
    "                                   result_type=\"recent\", max_id=oldest_id)\n",
    "    for tweet in public_tweets['statuses']:\n",
    "        text = tweet['text']\n",
    "        scores = analyzer.polarity_scores(text)\n",
    "        sentiments.append(scores)\n",
    "        oldest_id = tweet['id_str']\n",
    "    return pd.DataFrame(sentiments)\n",
    "    \n",
    "    "
   ]
  },
  {
   "cell_type": "code",
   "execution_count": 8,
   "metadata": {},
   "outputs": [
    {
     "data": {
      "text/html": [
       "<div>\n",
       "<style>\n",
       "    .dataframe thead tr:only-child th {\n",
       "        text-align: right;\n",
       "    }\n",
       "\n",
       "    .dataframe thead th {\n",
       "        text-align: left;\n",
       "    }\n",
       "\n",
       "    .dataframe tbody tr th {\n",
       "        vertical-align: top;\n",
       "    }\n",
       "</style>\n",
       "<table border=\"1\" class=\"dataframe\">\n",
       "  <thead>\n",
       "    <tr style=\"text-align: right;\">\n",
       "      <th></th>\n",
       "      <th>compound</th>\n",
       "      <th>neg</th>\n",
       "      <th>neu</th>\n",
       "      <th>pos</th>\n",
       "    </tr>\n",
       "  </thead>\n",
       "  <tbody>\n",
       "    <tr>\n",
       "      <th>0</th>\n",
       "      <td>0.0000</td>\n",
       "      <td>0.000</td>\n",
       "      <td>1.000</td>\n",
       "      <td>0.000</td>\n",
       "    </tr>\n",
       "    <tr>\n",
       "      <th>1</th>\n",
       "      <td>0.0000</td>\n",
       "      <td>0.000</td>\n",
       "      <td>1.000</td>\n",
       "      <td>0.000</td>\n",
       "    </tr>\n",
       "    <tr>\n",
       "      <th>2</th>\n",
       "      <td>0.5743</td>\n",
       "      <td>0.000</td>\n",
       "      <td>0.843</td>\n",
       "      <td>0.157</td>\n",
       "    </tr>\n",
       "    <tr>\n",
       "      <th>3</th>\n",
       "      <td>0.0000</td>\n",
       "      <td>0.000</td>\n",
       "      <td>1.000</td>\n",
       "      <td>0.000</td>\n",
       "    </tr>\n",
       "    <tr>\n",
       "      <th>4</th>\n",
       "      <td>-0.3595</td>\n",
       "      <td>0.142</td>\n",
       "      <td>0.858</td>\n",
       "      <td>0.000</td>\n",
       "    </tr>\n",
       "  </tbody>\n",
       "</table>\n",
       "</div>"
      ],
      "text/plain": [
       "   compound    neg    neu    pos\n",
       "0    0.0000  0.000  1.000  0.000\n",
       "1    0.0000  0.000  1.000  0.000\n",
       "2    0.5743  0.000  0.843  0.157\n",
       "3    0.0000  0.000  1.000  0.000\n",
       "4   -0.3595  0.142  0.858  0.000"
      ]
     },
     "execution_count": 8,
     "metadata": {},
     "output_type": "execute_result"
    }
   ],
   "source": [
    "frames = []\n",
    "for query in accounts:\n",
    "    df = tweet_frame(query)\n",
    "    df[\"account\"] = query\n",
    "    frames.append(df)\n",
    "total_tweets = pd.concat(frames)\n",
    "total_tweets.head()"
   ]
  },
  {
   "cell_type": "code",
   "execution_count": null,
   "metadata": {
    "collapsed": true
   },
   "outputs": [],
   "source": [
    "sentiments_df.to_csv(query + \".csv\")\n",
    "    plt.figure(figsize=(8, 5))\n",
    "    sentiments_df['compound'].plot(marker='o', linewidth=0)\n",
    "    plt.xlabel('Tweet number')\n",
    "    plt.ylabel('Compound score')\n",
    "    avg = sentiments_df['compound'].mean()\n",
    "    plt.hlines(avg, 0, len(sentiments), linewidth=1, linestyle='dotted',\n",
    "               color='red')\n",
    "    title = (\"VADER sentiment analysis on \" + query)\n",
    "    plt.title(title)\n",
    "    plt.savefig(title + \".png\")"
   ]
  }
 ],
 "metadata": {
  "kernelspec": {
   "display_name": "Python [conda env:python_data]",
   "language": "python",
   "name": "conda-env-python_data-py"
  },
  "language_info": {
   "codemirror_mode": {
    "name": "ipython",
    "version": 3
   },
   "file_extension": ".py",
   "mimetype": "text/x-python",
   "name": "python",
   "nbconvert_exporter": "python",
   "pygments_lexer": "ipython3",
   "version": "3.5.4"
  }
 },
 "nbformat": 4,
 "nbformat_minor": 2
}
