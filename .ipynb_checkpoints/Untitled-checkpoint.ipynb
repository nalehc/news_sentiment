{
 "cells": [
  {
   "cell_type": "code",
   "execution_count": 1,
   "metadata": {
    "collapsed": true
   },
   "outputs": [],
   "source": [
    "import matplotlib.pyplot as plt\n",
    "import pandas as pd\n",
    "import tweepy\n",
    "from vaderSentiment.vaderSentiment import SentimentIntensityAnalyzer\n",
    "analyzer = SentimentIntensityAnalyzer()"
   ]
  },
  {
   "cell_type": "code",
   "execution_count": 2,
   "metadata": {},
   "outputs": [
    {
     "name": "stdout",
     "output_type": "stream",
     "text": [
      "Please enter twitter consumer keyVhhAO44qKA0ula20ODh82aZUb\n",
      "Please enter twitter secret consumer keyXq2dooBwNihOk6FpRFWlgdvryruZ67ZkwcK1AaBWvjtXHgjIJa\n",
      "Please enter twitter token ID809386436-2c68LXwwIt91aa8Skk4spu0dsx9rlZhnS9dC0iLc\n",
      "Please enter twitter secret tokenDtc0XCnRxQyKaDJ7n6t8ZOFToOM1dDa9wWZHdgh8aoUIA\n"
     ]
    }
   ],
   "source": [
    "#API Key Entry\n",
    "consumer_key = input(\"Please enter twitter consumer key\")\n",
    "consumer_secret = input(\"Please enter twitter secret consumer key\")\n",
    "access_token = input(\"Please enter twitter token ID\")\n",
    "access_token_secret = input(\"Please enter twitter secret token\")\n",
    "auth = tweepy.OAuthHandler(consumer_key, consumer_secret)\n",
    "auth.set_access_token(access_token, access_token_secret)\n",
    "api = tweepy.API(auth, parser=tweepy.parsers.JSONParser())\n",
    "\n",
    "accounts = [\"@BBC\", \"@CBS\", \"@CNN\", \"@FoxNews\", \"@nytimes\"]\n"
   ]
  },
  {
   "cell_type": "code",
   "execution_count": 3,
   "metadata": {
    "collapsed": true
   },
   "outputs": [],
   "source": [
    "def tweet_frame(query):\n",
    "    sentiments = []\n",
    "    oldest_id = ''\n",
    "    public_tweets = api.search(query, count=100,\n",
    "                                   result_type=\"recent\", max_id=oldest_id)\n",
    "    for tweet in public_tweets['statuses']:\n",
    "        text = tweet['text']\n",
    "        scores = analyzer.polarity_scores(text)\n",
    "        sentiments.append(scores)\n",
    "        oldest_id = tweet['id_str']\n",
    "    sentiments_df = pd.DataFrame(sentiments)\n",
    "    print(sentiments_df.head())\n",
    "    sentiments_df.to_csv(query + \".csv\")\n",
    "    plt.figure(figsize=(8, 5))\n",
    "    sentiments_df['compound'].plot(marker='o', linewidth=0)\n",
    "    plt.xlabel('Tweet number')\n",
    "    plt.ylabel('Compound score')\n",
    "    avg = sentiments_df['compound'].mean()\n",
    "    plt.hlines(avg, 0, len(sentiments), linewidth=1, linestyle='dotted',\n",
    "               color='red')\n",
    "    title = (\"VADER sentiment analysis on \" + query)\n",
    "    plt.title(title)\n",
    "    plt.savefig(title + \".png\")"
   ]
  },
  {
   "cell_type": "code",
   "execution_count": 4,
   "metadata": {},
   "outputs": [
    {
     "name": "stdout",
     "output_type": "stream",
     "text": [
      "   compound    neg    neu    pos\n",
      "0    0.4215  0.000  0.872  0.128\n",
      "1    0.0000  0.000  1.000  0.000\n",
      "2   -0.3134  0.094  0.906  0.000\n",
      "3   -0.4588  0.176  0.824  0.000\n",
      "4   -0.3134  0.094  0.906  0.000\n",
      "   compound  neg  neu  pos\n",
      "0       0.0  0.0  1.0  0.0\n",
      "1       0.0  0.0  1.0  0.0\n",
      "2       0.0  0.0  1.0  0.0\n",
      "3       0.0  0.0  1.0  0.0\n",
      "4       0.0  0.0  1.0  0.0\n",
      "   compound    neg    neu   pos\n",
      "0    0.0000  0.000  1.000  0.00\n",
      "1    0.0000  0.000  1.000  0.00\n",
      "2   -0.6705  0.176  0.824  0.00\n",
      "3    0.3182  0.000  0.850  0.15\n",
      "4    0.0000  0.000  1.000  0.00\n",
      "   compound    neg    neu    pos\n",
      "0   -0.5919  0.232  0.768  0.000\n",
      "1    0.0000  0.000  1.000  0.000\n",
      "2    0.0258  0.163  0.667  0.170\n",
      "3    0.3182  0.165  0.631  0.204\n",
      "4   -0.6369  0.296  0.704  0.000\n",
      "   compound    neg    neu    pos\n",
      "0    0.4404  0.000  0.791  0.209\n",
      "1   -0.5994  0.151  0.849  0.000\n",
      "2    0.7845  0.000  0.699  0.301\n",
      "3    0.0000  0.000  1.000  0.000\n",
      "4    0.0000  0.000  1.000  0.000\n"
     ]
    }
   ],
   "source": [
    "for query in accounts:\n",
    "    tweet_frame(query)"
   ]
  },
  {
   "cell_type": "code",
   "execution_count": null,
   "metadata": {
    "collapsed": true
   },
   "outputs": [],
   "source": []
  }
 ],
 "metadata": {
  "kernelspec": {
   "display_name": "Python [conda env:python_data]",
   "language": "python",
   "name": "conda-env-python_data-py"
  },
  "language_info": {
   "codemirror_mode": {
    "name": "ipython",
    "version": 3
   },
   "file_extension": ".py",
   "mimetype": "text/x-python",
   "name": "python",
   "nbconvert_exporter": "python",
   "pygments_lexer": "ipython3",
   "version": "3.5.4"
  }
 },
 "nbformat": 4,
 "nbformat_minor": 2
}
